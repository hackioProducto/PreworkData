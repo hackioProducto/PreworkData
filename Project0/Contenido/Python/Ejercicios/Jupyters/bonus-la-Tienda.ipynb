{
 "cells": [
  {
   "cell_type": "markdown",
   "metadata": {},
   "source": [
    "## Condicionales"
   ]
  },
  {
   "cell_type": "markdown",
   "metadata": {},
   "source": [
    "En este ejercicio, se te pedirá que escribas un programa en Python que utilice condicionales para determinar el monto final de una compra en una tienda en línea, después de aplicar un descuento. El programa debe hacer lo siguiente:\n",
    "\n",
    "1-Solicitar al usuario que ingrese el precio original de un artículo.\n",
    "\n",
    "2-Preguntar al usuario si tiene un cupón de descuento (respuesta sí o no).\n",
    "\n",
    "3-Si el usuario responde que sí, solicitar que ingrese el valor del cupón de descuento.\n",
    "\n",
    "4-Aplicar el descuento al precio original del artículo, siempre y cuando el valor del cupón sea válido (es decir, mayor a cero).\n",
    "\n",
    "5-Mostrar el precio final de la compra, teniendo en cuenta el descuento aplicado o sin él, dependiendo de si el usuario ingresó un cupón de descuento o no.\n",
    "\n",
    "6-Recuerda utilizar estructuras de control de flujo como if, elif y else para llevar a cabo estas acciones en tu programa de Python."
   ]
  },
  {
   "cell_type": "code",
   "execution_count": 1,
   "metadata": {},
   "outputs": [],
   "source": [
    "# Solicitar al usuario que ingrese el precio de un producto \n",
    "\n",
    "precio = float(input(\"Ingrese el precio del producto: \"))"
   ]
  },
  {
   "cell_type": "code",
   "execution_count": 2,
   "metadata": {},
   "outputs": [],
   "source": [
    "# Preguntar al usuario si tiene un cupón de descuento (respuesta sí o no).\n",
    "cupon = input(\"¿Tiene un cupón de descuento? (sí/no): \")"
   ]
  },
  {
   "cell_type": "code",
   "execution_count": 3,
   "metadata": {},
   "outputs": [],
   "source": [
    "#Si el usuario responde que sí, solicitar que ingrese el valor del cupón de descuento. Aplicar el descuento al precio original del artículo, siempre y cuando el valor del cupón sea válido (es decir, mayor a cero)\n",
    "\n",
    "if cupon == \"sí\":\n",
    "    # Solicitar al usuario que ingrese el valor del cupón de descuento y lo transformamos a float\n",
    "    valor_cupon = float(input(\"Ingrese el valor del cupón de descuento: \"))\n",
    "    # Si el valor del cupón es mayor a 0, se aplica el descuento al precio original del artículo\n",
    "    if valor_cupon > 0:\n",
    "        precio = precio - valor_cupon\n",
    "        print(\"El precio final del producto es: \", precio)\n",
    "    else:\n",
    "        print(\"El valor del cupón no es válido\")\n"
   ]
  },
  {
   "cell_type": "code",
   "execution_count": 4,
   "metadata": {},
   "outputs": [
    {
     "data": {
      "text/plain": [
       "1.0"
      ]
     },
     "execution_count": 4,
     "metadata": {},
     "output_type": "execute_result"
    }
   ],
   "source": [
    "# Mostrar el precio final de la compra, teniendo en cuenta el descuento aplicado o sin él, dependiendo de si el usuario ingresó un cupón de descuento o no.\n",
    "precio"
   ]
  },
  {
   "cell_type": "markdown",
   "metadata": {},
   "source": [
    "Descuento por porcentaje: Modifica el programa para que el usuario ingrese un porcentaje de descuento en lugar de un valor fijo. Aplique el descuento en base al porcentaje ingresado."
   ]
  },
  {
   "cell_type": "code",
   "execution_count": 5,
   "metadata": {},
   "outputs": [],
   "source": [
    "# Descuento por porcentaje: Modifica el programa para que el usuario ingrese un porcentaje de descuento en lugar de un valor fijo. Aplique el descuento en base al porcentaje ingresado.\n",
    "# el usuario ingrese un porcentaje de descuento en lugar de un valor\n",
    "if cupon == \"sí\":\n",
    "    # Solicitar al usuario que ingrese el porcentaje de descuento y lo transformamos a float\n",
    "    porcentaje = float(input(\"Ingrese el porcentaje de descuento: \"))\n",
    "    # Si el porcentaje es mayor a 0, se aplica el descuento al precio original del artículo\n",
    "    if porcentaje > 0:\n",
    "        # calculamos el precio final del producto\n",
    "        precio = precio - (precio * porcentaje / 100) \n",
    "        print(\"El precio final del producto es: \", precio)\n",
    "    else:\n",
    "        print(\"El porcentaje no es válido\")\n"
   ]
  },
  {
   "cell_type": "markdown",
   "metadata": {},
   "source": [
    "Descuento mínimo y máximo: Agregue un límite al descuento, donde el descuento mínimo sea del 5% y el máximo del 50%. Si el usuario ingresa un porcentaje fuera de este rango, notifíquele y aplique el descuento mínimo o máximo según sea el caso."
   ]
  },
  {
   "cell_type": "code",
   "execution_count": null,
   "metadata": {},
   "outputs": [],
   "source": [
    "\n",
    "if cupon == \"sí\":\n",
    "    porcentaje = float(input(\"Ingrese el porcentaje de descuento: \"))\n",
    "    # si el porcentaje es mayor o igual a 5 y menor o igual a 50, se aplica el descuento al precio original del artículo\n",
    "    if porcentaje >= 5 and porcentaje <= 50:\n",
    "        precio = precio - (precio * porcentaje / 100)\n",
    "        print(\"El precio final del producto es: \", precio)\n",
    "    else:\n",
    "        print(\"El porcentaje no es válido\")\n"
   ]
  },
  {
   "cell_type": "markdown",
   "metadata": {},
   "source": [
    "Descuento acumulativo: Cree un programa que permita al usuario ingresar varios artículos, cada uno con su precio original y cupón de descuento. Aplique los descuentos acumulativamente y muestre el monto total final de la compra."
   ]
  },
  {
   "cell_type": "code",
   "execution_count": 12,
   "metadata": {},
   "outputs": [
    {
     "name": "stdout",
     "output_type": "stream",
     "text": [
      "El precio final del producto es:  50.0\n",
      "Productos:  ['P1']\n",
      "Descuentos:  [50.0]\n",
      "Precios:  [50.0]\n",
      "Total:  50.0\n"
     ]
    }
   ],
   "source": [
    "# el usuarioo puede agregar varios productos con su precio y descuento \n",
    "\n",
    "productos = []\n",
    "precios = []\n",
    "descuentos = []\n",
    "total = 0\n",
    "\n",
    "while True:\n",
    "    # Solicitar al usuario que ingrese el nombre del producto, el precio y si tiene un cupón de descuento\n",
    "    producto = input(\"Ingrese el nombre del producto: \") # En este caso el usuario puede poner el producto que quiera sin nigun tipo de limitaciones. En otras circusntancias se deberia de limitar el producto a una lista de productos validos    \n",
    "    precio = float(input(\"Ingrese el precio del producto: \"))\n",
    "    cupon = input(\"¿Tiene un cupón de descuento? (S/N): \")\n",
    "    if cupon == \"S\":\n",
    "        porcentaje = float(input(\"Ingrese el porcentaje de descuento: \"))\n",
    "        if porcentaje >= 5 and porcentaje <= 50:\n",
    "            precio = precio - (precio * porcentaje / 100)\n",
    "            print(\"El precio final del producto es: \", precio)\n",
    "        else:\n",
    "            print(\"El porcentaje no es válido\")\n",
    "    productos.append(producto)\n",
    "    precios.append(precio)\n",
    "    descuentos.append(porcentaje)\n",
    "    total += precio\n",
    "    continuar = input(\"¿Desea agregar otro producto? (S/N): \")\n",
    "    if continuar == \"N\":\n",
    "        break\n",
    "\n",
    "# aplicamos los descuentos acumulutivamente y mostramos el monto total final de la compra\n",
    "print(\"Productos: \", productos)\n",
    "print(\"Descuentos: \", descuentos)\n",
    "print(\"Precios: \", precios)\n",
    "print(\"Total: \", total)"
   ]
  },
  {
   "cell_type": "markdown",
   "metadata": {},
   "source": [
    "Descuento por categoría: Agregue categorías a los artículos (por ejemplo: electrónica, ropa, juguetes) y aplique descuentos diferentes según la categoría. Solicite al usuario que ingrese la categoría del artículculo y aplique el descuento correspondiente."
   ]
  },
  {
   "cell_type": "code",
   "execution_count": 11,
   "metadata": {},
   "outputs": [
    {
     "name": "stdout",
     "output_type": "stream",
     "text": [
      "Productos:  ['P1', 'P2']\n",
      "Precios:  [90.0, 900.0]\n",
      "descuentos:  [10, 10]\n",
      "Total:  990.0\n"
     ]
    }
   ],
   "source": [
    "# Agregamos categorias de productos (A,B,C)y descuentos por categoria\n",
    "productos = []\n",
    "precios = []\n",
    "descuentos = []\n",
    "total = 0\n",
    "\n",
    "while True:\n",
    "    producto = input(\"Ingrese el nombre del producto: \")\n",
    "    precio = float(input(\"Ingrese el precio del producto: \"))\n",
    "    categoria = input(\"Ingrese la categoría del producto (A, B, C): \")\n",
    "    if categoria == \"A\":\n",
    "        descuento = 10\n",
    "    elif categoria == \"B\":\n",
    "        descuento = 20\n",
    "    elif categoria == \"C\":\n",
    "        descuento = 30\n",
    "    else:\n",
    "        descuento = 0\n",
    "    precio = precio - (precio * descuento / 100)\n",
    "    productos.append(producto)\n",
    "    precios.append(precio)\n",
    "    descuentos.append(descuento)\n",
    "    total += precio\n",
    "    continuar = input(\"¿Desea agregar otro producto? (S/N): \")\n",
    "    if continuar == \"N\":\n",
    "        break\n",
    "\n",
    "print(\"Productos: \", productos)\n",
    "print(\"Precios: \", precios)\n",
    "\n",
    "print(\"descuentos: \", descuentos)\n",
    "print(\"Total: \", total)\n",
    "\n",
    "\n"
   ]
  },
  {
   "cell_type": "markdown",
   "metadata": {},
   "source": [
    "Descuento por fecha: Cree un programa que aplique descuentos automáticos en función de la fecha actual. Por ejemplo, aplique un descuento del 10% en compras realizadas entre lunes y viernes o un descuento del 15% en compras realizadas durante los fines de semana."
   ]
  },
  {
   "cell_type": "code",
   "execution_count": null,
   "metadata": {},
   "outputs": [],
   "source": [
    "# aplicamos en funcion de la fecha actual \n",
    "import datetime\n",
    "productos = []\n",
    "precios = []\n",
    "descuentos = []\n",
    "total = 0\n",
    "\n",
    "# Se aplica el descuento del 10% entre el lunes y el viernes \n",
    "while True:\n",
    "    producto = input(\"Ingrese el nombre del producto: \")\n",
    "    precio = float(input(\"Ingrese el precio del producto: \"))\n",
    "    # obtenemos el dia de la semana actual (0 es lunes, 1 es martes, ..., 6 es domingo)\n",
    "    dia = datetime.datetime.today().weekday()\n",
    "    if dia >= 0 and dia <= 4:\n",
    "        precio = precio - (precio * 10 / 100)\n",
    "    productos.append(producto)\n",
    "    precios.append(precio)\n",
    "    total += precio\n",
    "    continuar = input(\"¿Desea agregar otro producto? (S/N): \")\n",
    "    if continuar == \"N\":\n",
    "        break\n"
   ]
  },
  {
   "cell_type": "markdown",
   "metadata": {},
   "source": [
    "Descuento por membresía: Implemente un sistema de membresía donde los usuarios registrados obtengan un descuento adicional del 5%. Solicite al usuario que ingrese su nombre de usuario y contraseña para verificar su membresía y aplique el descuento adicional si corresponde. \n",
    "\n",
    "📝 Nota: El usuario es `USUARIO` y la contraseña es  `USUARIO123`\n"
   ]
  },
  {
   "cell_type": "code",
   "execution_count": 27,
   "metadata": {},
   "outputs": [
    {
     "name": "stdout",
     "output_type": "stream",
     "text": [
      "Nombre de usuario o contraseña incorrectos\n",
      "Productos:  ['P1']\n",
      "Descuentos:  ['Sin Descuento']\n",
      "Precios:  [100.0]\n",
      "Total:  100.0\n"
     ]
    }
   ],
   "source": [
    "# implementamos el codigo de la celda anterior al caso en el que el usuraio registrado recibe un descuento del 5% en su compra siguinedo el mismo codigo que en el resto de ejercicios\n",
    "usuario = input(\"Ingrese su nombre de usuario: \")\n",
    "contraseña = input(\"Ingrese su contraseña: \")\n",
    "\n",
    "usuario_correcto = \"USUARIO\"\n",
    "contraseña_correcta = \"USUARIO123\"\n",
    "productos = []\n",
    "precios = []\n",
    "descuentos = []\n",
    "total = 0\n",
    "\n",
    "\n",
    "if usuario == usuario_correcto and contraseña == contraseña_correcta:\n",
    "    \n",
    "    while True:\n",
    "        print(\"Bienvenido\")\n",
    "        producto = input(\"Ingrese el nombre del producto: \")\n",
    "        precio = float(input(\"Ingrese el precio del producto: \"))\n",
    "        usuario = input(\"Ingrese su nombre de usuario: \")\n",
    "        if usuario == usuario_correcto:\n",
    "            precio = precio - (precio * 5 / 100)\n",
    "        productos.append(producto)\n",
    "        precios.append(precio)\n",
    "        descuentos.append(\"Descuento membresía\")\n",
    "        total += precio\n",
    "        continuar = input(\"¿Desea agregar otro producto? (S/N): \")\n",
    "        if continuar == \"N\":\n",
    "            break\n",
    "else:\n",
    "    # el usuario sin contraseña sigue con su compra sin descuento\n",
    "    \n",
    "\n",
    "    print(\"Nombre de usuario o contraseña incorrectos\")\n",
    "    producto = input(\"Ingrese el nombre del producto: \")\n",
    "    precio = float(input(\"Ingrese el precio del producto: \"))\n",
    "    productos.append(producto)\n",
    "    precios.append(precio)\n",
    "    descuentos.append(\"Sin Descuento\")\n",
    "    total += precio\n",
    "    continuar = input(\"¿Desea agregar otro producto? (S/N): \")\n",
    "    if continuar == \"N\":\n",
    "        pass\n",
    "\n",
    "print(\"Productos: \", productos)\n",
    "print(\"Descuentos: \", descuentos)\n",
    "print(\"Precios: \", precios)\n",
    "print(\"Total: \", total)\n"
   ]
  },
  {
   "cell_type": "markdown",
   "metadata": {},
   "source": [
    "Descuento por cantidad: Ofrezca un descuento del 10% adicional si el usuario compra más de 5 artículos del mismo tipo. Verifique la cantidad y aplique el descuento adicional si corresponde.\n"
   ]
  },
  {
   "cell_type": "code",
   "execution_count": 24,
   "metadata": {},
   "outputs": [
    {
     "name": "stdout",
     "output_type": "stream",
     "text": [
      "Nombre de usuario o contraseña incorrectos\n"
     ]
    }
   ],
   "source": [
    "# Agregamos categorias de productos (A,B,C)y descuentos por categoria\n",
    "productos = []\n",
    "precios = []\n",
    "descuentos = []\n",
    "total = 0\n",
    "\n",
    "while True:\n",
    "    producto = input(\"Ingrese el nombre del producto: \")\n",
    "    precio = float(input(\"Ingrese el precio del producto: \"))\n",
    "    categoria = input(\"Ingrese la categoría del producto (A, B, C): \")\n",
    "    if len(productos) >= 5:\n",
    "        descuento = 10\n",
    "    else:\n",
    "        descuento = 0\n",
    "    precio = precio - (precio * descuento / 100)\n",
    "    productos.append(producto)\n",
    "    precios.append(precio)\n",
    "    descuentos.append(descuento)\n",
    "    total += precio\n",
    "    continuar = input(\"¿Desea agregar otro producto? (S/N): \")\n",
    "    if continuar == \"N\":\n",
    "        break\n",
    "\n",
    "print(\"Productos: \", productos)\n",
    "print(\"Precios: \", precios)\n",
    "\n",
    "print(\"descuentos: \", descuentos)\n",
    "print(\"Total: \", total)\n",
    "\n",
    "\n"
   ]
  },
  {
   "cell_type": "markdown",
   "metadata": {},
   "source": [
    "Descuento por día festivo: Implemente un sistema que detecte automáticamente si es un día festivo y aplique un descuento del 20% en las compras realizadas ese día."
   ]
  },
  {
   "cell_type": "code",
   "execution_count": null,
   "metadata": {},
   "outputs": [],
   "source": []
  },
  {
   "cell_type": "markdown",
   "metadata": {},
   "source": [
    "Descuento por volumen de compra: Ofrezca descuentos progresivos en función del volumen de compra. Por ejemplo, aplique un descuento del 5% para compras entre $100 y $200, un descuento del 10% para compras entre $200 y $500 y un descuento del 15% para compras superiores a $500."
   ]
  },
  {
   "cell_type": "code",
   "execution_count": null,
   "metadata": {},
   "outputs": [],
   "source": []
  },
  {
   "cell_type": "markdown",
   "metadata": {},
   "source": [
    "Descuento por método de pago: Ofrezca un descuento del 3% si el usuario paga con tarjeta de crédito o débito. Solicite al usuario que ingrese el método de pago y aplique el descuento si corresponde."
   ]
  },
  {
   "cell_type": "code",
   "execution_count": null,
   "metadata": {},
   "outputs": [],
   "source": []
  },
  {
   "cell_type": "code",
   "execution_count": 13,
   "metadata": {},
   "outputs": [
    {
     "name": "stdout",
     "output_type": "stream",
     "text": [
      "Bienvenido\n"
     ]
    }
   ],
   "source": [
    "# crea un script para comprobar si la contraseña es correcta \n",
    "# Solicitar al usuario que ingrese su nombre de usuario y contraseña\n",
    "usuario = input(\"Ingrese su nombre de usuario: \")\n",
    "contraseña = input(\"Ingrese su contraseña: \")\n",
    "\n",
    "# Definir el nombre de usuario y contraseña correctos\n",
    "usuario_correcto = \"usuario\"\n",
    "contraseña_correcta = \"contraseña\"\n",
    "\n",
    "# Comprobar si el nombre de usuario y contraseña ingresados por el usuario son correctos\n",
    "if usuario == usuario_correcto and contraseña == contraseña_correcta:\n",
    "    print(\"Bienvenido\")\n",
    "else:\n",
    "    print(\"Nombre de usuario o contraseña incorrectos\")\n"
   ]
  },
  {
   "cell_type": "code",
   "execution_count": null,
   "metadata": {},
   "outputs": [],
   "source": []
  },
  {
   "cell_type": "markdown",
   "metadata": {},
   "source": []
  }
 ],
 "metadata": {
  "kernelspec": {
   "display_name": "hackio",
   "language": "python",
   "name": "python3"
  },
  "language_info": {
   "codemirror_mode": {
    "name": "ipython",
    "version": 3
   },
   "file_extension": ".py",
   "mimetype": "text/x-python",
   "name": "python",
   "nbconvert_exporter": "python",
   "pygments_lexer": "ipython3",
   "version": "3.12.1"
  }
 },
 "nbformat": 4,
 "nbformat_minor": 2
}

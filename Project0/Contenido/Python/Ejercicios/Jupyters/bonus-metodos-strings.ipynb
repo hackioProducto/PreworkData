{
 "cells": [
  {
   "cell_type": "markdown",
   "metadata": {},
   "source": [
    "## Métodos de los strings"
   ]
  },
  {
   "cell_type": "markdown",
   "metadata": {},
   "source": [
    "### Ejercicio: strings\n",
    "\n",
    "Genera un dicionario con los nombres, apellidos y empresas de la siguinete lista de correos. \n",
    "___\n",
    "Criterios de evaluacion:\n",
    "\n",
    "> Si el alumno genera el diccionario de los values con la primera letra del nombre y apellido en mayusculas obtendra el 100% de los puntos de este ejercicio.\n",
    "\n",
    "> En el caso en el que se genere el dicionario sin mayusculas el 75% de los puntos.\n",
    "\n",
    "> Si el alumno consigue dividir los strings por nombre, apellido y nombre de empresas sin crear el dicionario obtendra el 50% de los puntos. \n",
    "\n",
    "> En cualquier otro caso el alumno no superara el ejerciocio. \n",
    "\n"
   ]
  },
  {
   "cell_type": "code",
   "execution_count": 25,
   "metadata": {},
   "outputs": [],
   "source": [
    "a = \"\"\"john.doe@tecnologiainnovadora.com\n",
    "jane.doe@empresatecnologica.com\n",
    "jim.smith@solucionesdigitales.com\n",
    "mary.jane@tecnologiapionera.com\n",
    "bob.jones@innovaciontecnologica.com\n",
    "alice.smith@desarrollotecnologico.com\n",
    "tom.jones@tecnologiadinamica.com\n",
    "sally.jones@tecnologiamoderna.com\n",
    "jerry.smith@solucionestech.com\n",
    "beth.jones@tecnologiavanguardista.com\n",
    "john.smith@tecnologiasavanzadas.com\n",
    "jane.doe@empresadigital.com\n",
    "jim.jones@tecnologiadinamica.com\n",
    "mary.smith@innovaciondigital.com\n",
    "bob.doe@solucionesinformaticas.com\n",
    "\"\"\"\n"
   ]
  },
  {
   "cell_type": "code",
   "execution_count": 53,
   "metadata": {},
   "outputs": [
    {
     "data": {
      "text/plain": [
       "{'nombre': ['john',\n",
       "  'jane',\n",
       "  'jim',\n",
       "  'mary',\n",
       "  'bob',\n",
       "  'alice',\n",
       "  'tom',\n",
       "  'sally',\n",
       "  'jerry',\n",
       "  'beth',\n",
       "  'john',\n",
       "  'jane',\n",
       "  'jim',\n",
       "  'mary',\n",
       "  'bob'],\n",
       " 'apellido': ['doe',\n",
       "  'doe',\n",
       "  'smith',\n",
       "  'jane',\n",
       "  'jones',\n",
       "  'smith',\n",
       "  'jones',\n",
       "  'jones',\n",
       "  'smith',\n",
       "  'jones',\n",
       "  'smith',\n",
       "  'doe',\n",
       "  'jones',\n",
       "  'smith',\n",
       "  'doe'],\n",
       " 'empresa': ['tecnologiainnovadora',\n",
       "  'empresatecnologica',\n",
       "  'solucionesdigitales',\n",
       "  'tecnologiapionera',\n",
       "  'innovaciontecnologica',\n",
       "  'desarrollotecnologico',\n",
       "  'tecnologiadinamica',\n",
       "  'tecnologiamoderna',\n",
       "  'solucionestech',\n",
       "  'tecnologiavanguardista',\n",
       "  'tecnologiasavanzadas',\n",
       "  'empresadigital',\n",
       "  'tecnologiadinamica',\n",
       "  'innovaciondigital',\n",
       "  'solucionesinformaticas']}"
      ]
     },
     "execution_count": 53,
     "metadata": {},
     "output_type": "execute_result"
    }
   ],
   "source": [
    "# solucion noob \n",
    "\n",
    "mails = a.split(\"\\n\")\n",
    "mails = mails[:-1]\n",
    "nombres_completo = []\n",
    "empresas = []\n",
    "\n",
    "for mail in mails:\n",
    "    texto_completo = mail.split(\"@\")\n",
    "    nombres_completo.append(texto_completo[0])\n",
    "    empresas.append(texto_completo[1])\n",
    "\n",
    "nombre = []\n",
    "apellido = []\n",
    "empresa = []\n",
    "for i in nombres_completo:\n",
    "    nombre.append(i.split(\".\")[0])\n",
    "    apellido.append(i.split(\".\")[1])\n",
    "for i in empresas:\n",
    "    empresa.append(i.split(\".\")[0])\n",
    "\n",
    "\n",
    "\n",
    "# generamos un diccionario con las listas de nombre, apellido y empresa\n",
    "diccionario = {\"nombre\": nombre, \"apellido\": apellido, \"empresa\": empresa}\n",
    "diccionario\n",
    "\n",
    "\n"
   ]
  },
  {
   "cell_type": "code",
   "execution_count": 59,
   "metadata": {},
   "outputs": [
    {
     "data": {
      "text/plain": [
       "{'nombre': ['john',\n",
       "  'jane',\n",
       "  'jim',\n",
       "  'mary',\n",
       "  'bob',\n",
       "  'alice',\n",
       "  'tom',\n",
       "  'sally',\n",
       "  'jerry',\n",
       "  'beth',\n",
       "  'john',\n",
       "  'jane',\n",
       "  'jim',\n",
       "  'mary',\n",
       "  'bob'],\n",
       " 'apellido': ['doe',\n",
       "  'doe',\n",
       "  'smith',\n",
       "  'jane',\n",
       "  'jones',\n",
       "  'smith',\n",
       "  'jones',\n",
       "  'jones',\n",
       "  'smith',\n",
       "  'jones',\n",
       "  'smith',\n",
       "  'doe',\n",
       "  'jones',\n",
       "  'smith',\n",
       "  'doe'],\n",
       " 'empresa': ['tecnologiainnovadora',\n",
       "  'empresatecnologica',\n",
       "  'solucionesdigitales',\n",
       "  'tecnologiapionera',\n",
       "  'innovaciontecnologica',\n",
       "  'desarrollotecnologico',\n",
       "  'tecnologiadinamica',\n",
       "  'tecnologiamoderna',\n",
       "  'solucionestech',\n",
       "  'tecnologiavanguardista',\n",
       "  'tecnologiasavanzadas',\n",
       "  'empresadigital',\n",
       "  'tecnologiadinamica',\n",
       "  'innovaciondigital',\n",
       "  'solucionesinformaticas']}"
      ]
     },
     "execution_count": 59,
     "metadata": {},
     "output_type": "execute_result"
    }
   ],
   "source": [
    "# nivel medio\n",
    "mails = a.split(\"\\n\")\n",
    "mails = mails[:-1]\n",
    "nombre = []\n",
    "apellido = []\n",
    "empresa = []\n",
    "\n",
    "for mail in mails:\n",
    "    nombre.append(mail.split(\"@\")[0].split(\".\")[0])\n",
    "    apellido.append(mail.split(\"@\")[0].split(\".\")[1])\n",
    "    empresa.append(mail.split(\"@\")[1].split(\".\")[0])\n",
    "diccionario = {\"nombre\": nombre, \"apellido\": apellido, \"empresa\": empresa}\n",
    "diccionario\n"
   ]
  }
 ],
 "metadata": {
  "kernelspec": {
   "display_name": "hackio",
   "language": "python",
   "name": "python3"
  },
  "language_info": {
   "codemirror_mode": {
    "name": "ipython",
    "version": 3
   },
   "file_extension": ".py",
   "mimetype": "text/x-python",
   "name": "python",
   "nbconvert_exporter": "python",
   "pygments_lexer": "ipython3",
   "version": "3.12.1"
  }
 },
 "nbformat": 4,
 "nbformat_minor": 2
}
